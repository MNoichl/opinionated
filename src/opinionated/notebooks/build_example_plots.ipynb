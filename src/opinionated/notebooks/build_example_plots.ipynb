{
  "cells": [
    {
      "cell_type": "raw",
      "metadata": {},
      "source": [
        "---\n",
        "title: Opinionated\n",
        "editor:\n",
        "  render-on-save: true\n",
        "execute:\n",
        "  freeze: true\n",
        "---"
      ],
      "id": "fefc46d2"
    },
    {
      "cell_type": "markdown",
      "metadata": {},
      "source": [
        "# Build Example Plots\n",
        "\n",
        "[![[Open in Colab](https://colab.research.google.com/github/MNoichl/opinionated/blob/master/build_example_plots.ipynb)](https://colab.research.google.com/assets/colab-badge.svg)]{style=\"text-align:left;\"}\n",
        "\n",
        "# Building the example plots\n",
        "\n",
        "First, we make the standard plot.\n",
        "\n",
        "## Imports / Setup\n"
      ],
      "id": "c43d35db"
    },
    {
      "cell_type": "code",
      "metadata": {},
      "source": [
        "# ruff: noqa: E402, F401\n",
        "%load_ext autoreload\n",
        "%autoreload 2\n",
        "from typing import Optional\n",
        "from opinionated import reload_styles\n",
        "import seaborn as sns\n",
        "import opinionated\n",
        "from matplotlib import font_manager as fm, pyplot as plt\n",
        "\n",
        "import os\n",
        "import shutil\n",
        "import matplotlib\n",
        "from pathlib import Path\n",
        "import pandas as pd\n",
        "\n",
        "from opinionated import PROJECT_DIR, STYLES_DIR\n",
        "%matplotlib inline\n",
        "import matplotlib_inline\n",
        "matplotlib_inline.backend_inline.set_matplotlib_formats('svg')"
      ],
      "id": "993d7600",
      "execution_count": null,
      "outputs": []
    },
    {
      "cell_type": "code",
      "metadata": {},
      "source": [
        "OUTPUT_DIR = PROJECT_DIR.joinpath('outputs')\n",
        "OUTPUT_DIR.mkdir(parents=True, exist_ok=True)\n",
        "\n",
        "penguins = sns.load_dataset(\"penguins\")"
      ],
      "id": "eeae171a",
      "execution_count": null,
      "outputs": []
    },
    {
      "cell_type": "markdown",
      "metadata": {},
      "source": [
        "## Helper Functions\n"
      ],
      "id": "521ad63b"
    },
    {
      "cell_type": "code",
      "metadata": {},
      "source": [
        "def savefig(\n",
        "        fname: str,\n",
        "        outdir: Optional[os.PathLike] = None,\n",
        "):\n",
        "    outdir = OUTPUT_DIR if outdir is None else outdir\n",
        "    # fig = plt.gcf()\n",
        "    ext = {'png', 'svg'}\n",
        "    print(f\"Saving {fname} to {outdir}\")\n",
        "    for ext in ext:\n",
        "        edir = Path(outdir).joinpath(f\"{ext}s\")\n",
        "        edir.mkdir(exist_ok=True, parents=True)\n",
        "        outfile = Path(edir).joinpath(f\"{fname}.{ext}\")\n",
        "        plt.savefig(outfile, dpi=450, bbox_inches='tight')"
      ],
      "id": "1471d767",
      "execution_count": null,
      "outputs": []
    },
    {
      "cell_type": "code",
      "metadata": {},
      "source": [
        "import os\n",
        "import seaborn as sns\n",
        "from opinionated import STYLES, set_title_and_suptitle, add_attribution\n",
        "import colormaps as cmaps\n",
        "\n",
        "def make_plot(name: str) -> tuple[plt.Figure, plt.Axes]:\n",
        "    fig, ax = plt.subplots()\n",
        "    cmap = sns.color_palette(list(cmaps.bold[2:5]._colors))\n",
        "    sns.scatterplot(\n",
        "        x=\"bill_length_mm\",\n",
        "        y=\"flipper_length_mm\",\n",
        "        data=penguins,\n",
        "        hue='species',\n",
        "        style='species',\n",
        "        palette=cmap,\n",
        "        alpha=0.75,\n",
        "    )\n",
        "    # opinionated.add_legend()\n",
        "    plt.legend(bbox_to_anchor=(1.01, 0.5), loc='center left')\n",
        "    set_title_and_suptitle(\n",
        "        \"Penguins\",\n",
        "        \"An Excellent Bird!\"\n",
        "    )\n",
        "    savefig(f\"penguins_{name}\")\n",
        "    return fig, ax"
      ],
      "id": "56037a44",
      "execution_count": null,
      "outputs": []
    },
    {
      "cell_type": "code",
      "metadata": {},
      "source": [
        "plt.style.use('default')\n",
        "make_plot('default')\n",
        "reload_styles()"
      ],
      "id": "205d1f07",
      "execution_count": null,
      "outputs": []
    },
    {
      "cell_type": "markdown",
      "metadata": {},
      "source": [
        "## All Default Styles\n"
      ],
      "id": "1fe921ba"
    },
    {
      "cell_type": "code",
      "metadata": {},
      "source": [
        "with plt.style.context('default'):\n",
        "    make_plot('default')\n",
        "\n",
        "for name, stylefile in STYLES.items():\n",
        "    with plt.style.context(Path(stylefile).as_posix()):\n",
        "        fig, ax = make_plot(name)\n",
        "        plt.show()"
      ],
      "id": "6c0ed031",
      "execution_count": null,
      "outputs": []
    }
  ],
  "metadata": {
    "kernelspec": {
      "name": "opinionated",
      "language": "python",
      "display_name": "opinionated"
    }
  },
  "nbformat": 4,
  "nbformat_minor": 5
}