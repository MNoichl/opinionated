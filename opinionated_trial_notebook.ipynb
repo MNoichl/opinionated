{
  "nbformat": 4,
  "nbformat_minor": 0,
  "metadata": {
    "colab": {
      "provenance": [],
      "authorship_tag": "ABX9TyNAUKqM6TlwGOyoPU555dPj",
      "include_colab_link": true
    },
    "kernelspec": {
      "name": "python3",
      "display_name": "Python 3"
    },
    "language_info": {
      "name": "python"
    }
  },
  "cells": [
    {
      "cell_type": "markdown",
      "metadata": {
        "id": "view-in-github",
        "colab_type": "text"
      },
      "source": [
        "<a href=\"https://colab.research.google.com/github/MNoichl/opinionated/blob/master/opinionated_trial_notebook.ipynb\" target=\"_parent\"><img src=\"https://colab.research.google.com/assets/colab-badge.svg\" alt=\"Open In Colab\"/></a>"
      ]
    },
    {
      "cell_type": "markdown",
      "source": [
        "# Slightly prettier plots in colab, the easy way\n",
        "\n",
        "First, we make the standard plot. It's not that pretty... 😞"
      ],
      "metadata": {
        "id": "liTsywz5Q7OA"
      }
    },
    {
      "cell_type": "code",
      "execution_count": 5,
      "metadata": {
        "colab": {
          "base_uri": "https://localhost:8080/",
          "height": 475
        },
        "id": "MaCr0JmsgS2D",
        "outputId": "228e1f71-e1a4-41e8-ac75-a4e3c908910c"
      },
      "outputs": [
        {
          "output_type": "execute_result",
          "data": {
            "text/plain": [
              "Text(0.5, 1.0, 'Some Data')"
            ]
          },
          "metadata": {},
          "execution_count": 5
        },
        {
          "output_type": "display_data",
          "data": {
            "text/plain": [
              "<Figure size 432x504 with 1 Axes>"
            ],
            "image/png": "[encoded data removed]"
          },
          "metadata": {
            "needs_background": "light"
          }
        }
      ],
      "source": [
        "import seaborn as sns\n",
        "from matplotlib import font_manager as fm, pyplot as plt\n",
        "import shutil\n",
        "import matplotlib\n",
        "\n",
        "#Loading the data:\n",
        "crashes = sns.load_dataset(\"car_crashes\").sort_values(\"total\", ascending=False)[0:10]\n",
        "\n",
        "\n",
        "f, ax = plt.subplots(figsize=(6, 7))\n",
        "sns.barplot(x=\"total\", y=\"abbrev\", data=crashes,\n",
        "            label=\"Total\",color='b')\n",
        "plt.title('Some Title')\n",
        "ax.set_title('Some Data')"
      ]
    },
    {
      "cell_type": "markdown",
      "source": [
        "Then we download the custom stylesheet I made for Samuli. It's inspired by [this R-package](https://github.com/hrbrmstr/hrbrthemes). We also download all the google-fonts. This is somewhat overkill, and takes half a minute but why not... 😎\n"
      ],
      "metadata": {
        "id": "ZWC-McfjRNkx"
      }
    },
    {
      "cell_type": "code",
      "source": [],
      "metadata": {
        "id": "Ujb7rS7XTcNv"
      },
      "execution_count": null,
      "outputs": []
    },
    {
      "cell_type": "code",
      "source": [
        "# !wget -q https://raw.githubusercontent.com/MNoichl/uti/main/opinions.mplstyle -O opinions.mplstyle\n",
        "# plt.style.use(\"opinions.mplstyle\")"
      ],
      "metadata": {
        "id": "78u2uAIWiGJz"
      },
      "execution_count": null,
      "outputs": []
    },
    {
      "cell_type": "code",
      "source": [
        "# def make_html(fontname):\n",
        "#     return \"<p>{font}: <span style='font-family:{font}; font-size: 24px;'>{font}</p>\".format(font=fontname)\n",
        "\n",
        "# def install_google_fonts(print_out= False, download = False):\n",
        "#   if download:\n",
        "#     !wget https://github.com/google/fonts/archive/main.zip\n",
        "#     !unzip -q main.zip -d all_the_google_fonts\n",
        "\n",
        "#   font_files = fm.findSystemFonts('.')\n",
        "#   for font_file in font_files:\n",
        "#     try:\n",
        "#       fm.fontManager.addfont(font_file)\n",
        "#     except:\n",
        "#       pass\n",
        "\n",
        "#   if print_out:\n",
        "#     from IPython.core.display import HTML\n",
        "#     code = \"\\n\".join([make_html(font) for font in sorted(set([f.name for f in matplotlib.font_manager.fontManager.ttflist]))])\n",
        "\n",
        "#     display(HTML(\"<div style='column-count: 2;'>{}</div>\".format(code)))\n",
        "\n",
        "# install_google_fonts(print_out= False, download = True)"
      ],
      "metadata": {
        "colab": {
          "base_uri": "https://localhost:8080/"
        },
        "id": "Bm7Qz9oQgskJ",
        "outputId": "912897f7-2139-4247-bd0c-d741e434c45e"
      },
      "execution_count": null,
      "outputs": [
        {
          "output_type": "stream",
          "name": "stdout",
          "text": [
            "--2023-03-02 00:28:41--  https://github.com/google/fonts/archive/main.zip\n",
            "Resolving github.com (github.com)... 140.82.113.4\n",
            "Connecting to github.com (github.com)|140.82.113.4|:443... connected.\n",
            "HTTP request sent, awaiting response... 302 Found\n",
            "Location: https://codeload.github.com/google/fonts/zip/refs/heads/main [following]\n",
            "--2023-03-02 00:28:41--  https://codeload.github.com/google/fonts/zip/refs/heads/main\n",
            "Resolving codeload.github.com (codeload.github.com)... 140.82.112.10\n",
            "Connecting to codeload.github.com (codeload.github.com)|140.82.112.10|:443... connected.\n",
            "HTTP request sent, awaiting response... 200 OK\n",
            "Length: unspecified [application/zip]\n",
            "Saving to: ‘main.zip’\n",
            "\n",
            "main.zip                [          <=>       ]   1.02G  9.73MB/s    in 2m 2s   \n",
            "\n",
            "2023-03-02 00:30:43 (8.56 MB/s) - ‘main.zip’ saved [1098924931]\n",
            "\n"
          ]
        }
      ]
    },
    {
      "cell_type": "markdown",
      "source": [
        "Then we do the exact same thing as above again, but change the color, and add a little transparancy...\n",
        "\n",
        "The result is by no means perfect, but isn't it already a lot prettier? 🤩"
      ],
      "metadata": {
        "id": "x66xQqxYRnWl"
      }
    },
    {
      "cell_type": "code",
      "source": [
        "plt.style.use(\"opinions\")\n",
        "\n",
        "f, ax = plt.subplots(figsize=(6, 7))\n",
        "\n",
        "# If you want even more of the hrbrthemes-feeling you can change the font to Roboto Condensed. \n",
        "# Sometimes you will need to call the plotting function multiple times for this to take effect.\n",
        "# You should be able to put any google-font here:\n",
        "plt.rc('font', family='Roboto Condensed') \n",
        "\n",
        "\n",
        "sns.barplot(x=\"total\", y=\"abbrev\", data=crashes,\n",
        "            label=\"Total\", color=\"#ff2500\", alpha=.9)\n",
        "ax.set_title('Some Data')\n",
        "ax.set_ylabel(\"State\")\n",
        "ax.set_xlabel(\"Collisions\")\n",
        "\n",
        "# Now lets save with good defaults:\n",
        "plt.savefig('my_sample_plot.png',bbox_inches='tight',dpi =400, transparent=False)"
      ],
      "metadata": {
        "colab": {
          "base_uri": "https://localhost:8080/",
          "height": 553
        },
        "id": "_Hyh4okChaOv",
        "outputId": "a0925fc4-f950-4c8e-8e46-5edbc5b5c1f7"
      },
      "execution_count": 8,
      "outputs": [
        {
          "output_type": "stream",
          "name": "stderr",
          "text": [
            "WARNING:matplotlib.font_manager:findfont: Font family ['Roboto Condensed'] not found. Falling back to DejaVu Sans.\n",
            "WARNING:matplotlib.font_manager:findfont: Font family ['Roboto Condensed'] not found. Falling back to DejaVu Sans.\n",
            "WARNING:matplotlib.font_manager:findfont: Font family ['Roboto Condensed'] not found. Falling back to DejaVu Sans.\n"
          ]
        },
        {
          "output_type": "display_data",
          "data": {
            "text/plain": [
              "<Figure size 432x504 with 1 Axes>"
            ],
            "image/png": "[encoded data removed]"
          },
          "metadata": {}
        }
      ]
    },
    {
      "cell_type": "markdown",
      "source": [
        "That's it! If you have ideas for how to improve the stylesheet, please tell me!"
      ],
      "metadata": {
        "id": "gh2H4vDHs7qY"
      }
    },
    {
      "cell_type": "code",
      "source": [
        "!pip install git+https://github.com/MNoichl/opinionated.git#egg=opinionated\n"
      ],
      "metadata": {
        "id": "mFDpwmNgWK7n",
        "outputId": "82081ebd-5f75-4aa3-8127-96d29dd69f4d",
        "colab": {
          "base_uri": "https://localhost:8080/"
        }
      },
      "execution_count": 1,
      "outputs": [
        {
          "output_type": "stream",
          "name": "stdout",
          "text": [
            "Looking in indexes: https://pypi.org/simple, https://us-python.pkg.dev/colab-wheels/public/simple/\n",
            "Collecting opinionated\n",
            "  Cloning https://github.com/MNoichl/opinionated.git to /tmp/pip-install-h32ga88h/opinionated_8a002a4df5be40bc93f7cdda56300665\n",
            "  Running command git clone --filter=blob:none --quiet https://github.com/MNoichl/opinionated.git /tmp/pip-install-h32ga88h/opinionated_8a002a4df5be40bc93f7cdda56300665\n",
            "  Resolved https://github.com/MNoichl/opinionated.git to commit 1783962e541686982cbe1682ccf30b4896e59ce7\n",
            "  Preparing metadata (setup.py) ... \u001b[?25l\u001b[?25hdone\n",
            "Requirement already satisfied: matplotlib in /usr/local/lib/python3.8/dist-packages (from opinionated) (3.5.3)\n",
            "Requirement already satisfied: fonttools>=4.22.0 in /usr/local/lib/python3.8/dist-packages (from matplotlib->opinionated) (4.38.0)\n",
            "Requirement already satisfied: kiwisolver>=1.0.1 in /usr/local/lib/python3.8/dist-packages (from matplotlib->opinionated) (1.4.4)\n",
            "Requirement already satisfied: pillow>=6.2.0 in /usr/local/lib/python3.8/dist-packages (from matplotlib->opinionated) (8.4.0)\n",
            "Requirement already satisfied: packaging>=20.0 in /usr/local/lib/python3.8/dist-packages (from matplotlib->opinionated) (23.0)\n",
            "Requirement already satisfied: cycler>=0.10 in /usr/local/lib/python3.8/dist-packages (from matplotlib->opinionated) (0.11.0)\n",
            "Requirement already satisfied: numpy>=1.17 in /usr/local/lib/python3.8/dist-packages (from matplotlib->opinionated) (1.22.4)\n",
            "Requirement already satisfied: pyparsing>=2.2.1 in /usr/local/lib/python3.8/dist-packages (from matplotlib->opinionated) (3.0.9)\n",
            "Requirement already satisfied: python-dateutil>=2.7 in /usr/local/lib/python3.8/dist-packages (from matplotlib->opinionated) (2.8.2)\n",
            "Requirement already satisfied: six>=1.5 in /usr/local/lib/python3.8/dist-packages (from python-dateutil>=2.7->matplotlib->opinionated) (1.15.0)\n",
            "Building wheels for collected packages: opinionated\n",
            "  Building wheel for opinionated (setup.py) ... \u001b[?25l\u001b[?25hdone\n",
            "  Created wheel for opinionated: filename=opinionated-0.0.1+dirty-py3-none-any.whl size=3556 sha256=465c73a8a54f5b9058eff62cddc6e51000e75a12ba24cfc4b955fd2cbdef40c7\n",
            "  Stored in directory: /tmp/pip-ephem-wheel-cache-q_uzv5n9/wheels/d2/14/71/09afceeaa7ad5cc0dc1ad3790ff1bef4d362715f0b1656679d\n",
            "Successfully built opinionated\n",
            "Installing collected packages: opinionated\n",
            "Successfully installed opinionated-0.0.1+dirty\n"
          ]
        }
      ]
    },
    {
      "cell_type": "code",
      "source": [
        "import opinionated\n",
        "# from opinionated.core import download_googlefont\n",
        "# download_googlefont()"
      ],
      "metadata": {
        "id": "nP9yik1NYn-E",
        "outputId": "1a3b5ba6-0fc6-4b93-c812-3681d201d371",
        "colab": {
          "base_uri": "https://localhost:8080/"
        }
      },
      "execution_count": 2,
      "outputs": [
        {
          "output_type": "stream",
          "name": "stdout",
          "text": [
            "Font saved to: /usr/local/lib/python3.8/dist-packages/opinionated/fonts\n",
            "Font saved to: /usr/local/lib/python3.8/dist-packages/opinionated/fonts\n",
            "Font saved to: /usr/local/lib/python3.8/dist-packages/opinionated/fonts\n",
            "Font saved to: /usr/local/lib/python3.8/dist-packages/opinionated/fonts\n",
            "Font saved to: /usr/local/lib/python3.8/dist-packages/opinionated/fonts\n"
          ]
        }
      ]
    },
    {
      "cell_type": "code",
      "source": [
        "from opinionated.core import show_installed_fonts\n",
        "show_installed_fonts()"
      ],
      "metadata": {
        "id": "jc1ysfKqdL28",
        "outputId": "67fa20c8-bab3-43af-8569-d93efc03bcd3",
        "colab": {
          "base_uri": "https://localhost:8080/",
          "height": 449
        }
      },
      "execution_count": 4,
      "outputs": [
        {
          "output_type": "display_data",
          "data": {
            "text/plain": [
              "<IPython.core.display.HTML object>"
            ],
            "text/html": [
              "<div style='column-count: 2;'><p>DejaVu Sans: <span style='font-family:DejaVu Sans; font-size: 24px;'>DejaVu Sans</p>\n",
              "<p>DejaVu Sans Display: <span style='font-family:DejaVu Sans Display; font-size: 24px;'>DejaVu Sans Display</p>\n",
              "<p>DejaVu Sans Mono: <span style='font-family:DejaVu Sans Mono; font-size: 24px;'>DejaVu Sans Mono</p>\n",
              "<p>DejaVu Serif: <span style='font-family:DejaVu Serif; font-size: 24px;'>DejaVu Serif</p>\n",
              "<p>DejaVu Serif Display: <span style='font-family:DejaVu Serif Display; font-size: 24px;'>DejaVu Serif Display</p>\n",
              "<p>Humor Sans: <span style='font-family:Humor Sans; font-size: 24px;'>Humor Sans</p>\n",
              "<p>Liberation Mono: <span style='font-family:Liberation Mono; font-size: 24px;'>Liberation Mono</p>\n",
              "<p>Liberation Sans: <span style='font-family:Liberation Sans; font-size: 24px;'>Liberation Sans</p>\n",
              "<p>Liberation Sans Narrow: <span style='font-family:Liberation Sans Narrow; font-size: 24px;'>Liberation Sans Narrow</p>\n",
              "<p>Liberation Serif: <span style='font-family:Liberation Serif; font-size: 24px;'>Liberation Serif</p>\n",
              "<p>STIXGeneral: <span style='font-family:STIXGeneral; font-size: 24px;'>STIXGeneral</p>\n",
              "<p>STIXNonUnicode: <span style='font-family:STIXNonUnicode; font-size: 24px;'>STIXNonUnicode</p>\n",
              "<p>STIXSizeFiveSym: <span style='font-family:STIXSizeFiveSym; font-size: 24px;'>STIXSizeFiveSym</p>\n",
              "<p>STIXSizeFourSym: <span style='font-family:STIXSizeFourSym; font-size: 24px;'>STIXSizeFourSym</p>\n",
              "<p>STIXSizeOneSym: <span style='font-family:STIXSizeOneSym; font-size: 24px;'>STIXSizeOneSym</p>\n",
              "<p>STIXSizeThreeSym: <span style='font-family:STIXSizeThreeSym; font-size: 24px;'>STIXSizeThreeSym</p>\n",
              "<p>STIXSizeTwoSym: <span style='font-family:STIXSizeTwoSym; font-size: 24px;'>STIXSizeTwoSym</p>\n",
              "<p>cmb10: <span style='font-family:cmb10; font-size: 24px;'>cmb10</p>\n",
              "<p>cmex10: <span style='font-family:cmex10; font-size: 24px;'>cmex10</p>\n",
              "<p>cmmi10: <span style='font-family:cmmi10; font-size: 24px;'>cmmi10</p>\n",
              "<p>cmr10: <span style='font-family:cmr10; font-size: 24px;'>cmr10</p>\n",
              "<p>cmss10: <span style='font-family:cmss10; font-size: 24px;'>cmss10</p>\n",
              "<p>cmsy10: <span style='font-family:cmsy10; font-size: 24px;'>cmsy10</p>\n",
              "<p>cmtt10: <span style='font-family:cmtt10; font-size: 24px;'>cmtt10</p></div>"
            ]
          },
          "metadata": {}
        }
      ]
    },
    {
      "cell_type": "code",
      "source": [],
      "metadata": {
        "id": "c7042gJFkqE2"
      },
      "execution_count": null,
      "outputs": []
    }
  ]
}