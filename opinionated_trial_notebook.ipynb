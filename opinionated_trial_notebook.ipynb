{
  "nbformat": 4,
  "nbformat_minor": 0,
  "metadata": {
    "colab": {
      "provenance": [],
      "authorship_tag": "ABX9TyP69mWVA3QqrAZFXwuX6YM3",
      "include_colab_link": true
    },
    "kernelspec": {
      "name": "python3",
      "display_name": "Python 3"
    },
    "language_info": {
      "name": "python"
    }
  },
  "cells": [
    {
      "cell_type": "markdown",
      "metadata": {
        "id": "view-in-github",
        "colab_type": "text"
      },
      "source": [
        "<a href=\"https://colab.research.google.com/github/MNoichl/opinionated/blob/master/opinionated_trial_notebook.ipynb\" target=\"_parent\"><img src=\"https://colab.research.google.com/assets/colab-badge.svg\" alt=\"Open In Colab\"/></a>"
      ]
    },
    {
      "cell_type": "markdown",
      "source": [
        "# Slightly prettier plots in colab, the easy way\n",
        "\n",
        "First, we make the standard plot. It's not that pretty... 😞"
      ],
      "metadata": {
        "id": "liTsywz5Q7OA"
      }
    },
    {
      "cell_type": "code",
      "execution_count": null,
      "metadata": {
        "colab": {
          "base_uri": "https://localhost:8080/",
          "height": 475
        },
        "id": "MaCr0JmsgS2D",
        "outputId": "a3862d0e-6eef-4a2b-b5d3-212161cdde2a"
      },
      "outputs": [
        {
          "output_type": "execute_result",
          "data": {
            "text/plain": [
              "Text(0.5, 1.0, 'Some Data')"
            ]
          },
          "metadata": {},
          "execution_count": 1
        },
        {
          "output_type": "display_data",
          "data": {
            "text/plain": [
              "<Figure size 432x504 with 1 Axes>"
            ],
            "image/png": "[encoded data removed]"
          },
          "metadata": {
            "needs_background": "light"
          }
        }
      ],
      "source": [
        "import seaborn as sns\n",
        "from matplotlib import font_manager as fm, pyplot as plt\n",
        "import shutil\n",
        "import matplotlib\n",
        "\n",
        "#Loading the data:\n",
        "crashes = sns.load_dataset(\"car_crashes\").sort_values(\"total\", ascending=False)[0:10]\n",
        "\n",
        "\n",
        "f, ax = plt.subplots(figsize=(6, 7))\n",
        "sns.barplot(x=\"total\", y=\"abbrev\", data=crashes,\n",
        "            label=\"Total\",color='b')\n",
        "plt.title('Some Title')\n",
        "ax.set_title('Some Data')"
      ]
    },
    {
      "cell_type": "markdown",
      "source": [
        "Then we download the custom stylesheet I made for Samuli. It's inspired by [this R-package](https://github.com/hrbrmstr/hrbrthemes). We also download all the google-fonts. This is somewhat overkill, and takes half a minute but why not... 😎\n"
      ],
      "metadata": {
        "id": "ZWC-McfjRNkx"
      }
    },
    {
      "cell_type": "code",
      "source": [
        "!wget -q https://raw.githubusercontent.com/MNoichl/uti/main/opinions.mplstyle -O opinions.mplstyle\n",
        "plt.style.use(\"opinions.mplstyle\")"
      ],
      "metadata": {
        "id": "78u2uAIWiGJz"
      },
      "execution_count": null,
      "outputs": []
    },
    {
      "cell_type": "code",
      "source": [
        "def make_html(fontname):\n",
        "    return \"<p>{font}: <span style='font-family:{font}; font-size: 24px;'>{font}</p>\".format(font=fontname)\n",
        "\n",
        "def install_google_fonts(print_out= False, download = False):\n",
        "  if download:\n",
        "    !wget https://github.com/google/fonts/archive/main.zip\n",
        "    !unzip -q main.zip -d all_the_google_fonts\n",
        "\n",
        "  font_files = fm.findSystemFonts('.')\n",
        "  for font_file in font_files:\n",
        "    try:\n",
        "      fm.fontManager.addfont(font_file)\n",
        "    except:\n",
        "      pass\n",
        "\n",
        "  if print_out:\n",
        "    from IPython.core.display import HTML\n",
        "    code = \"\\n\".join([make_html(font) for font in sorted(set([f.name for f in matplotlib.font_manager.fontManager.ttflist]))])\n",
        "\n",
        "    display(HTML(\"<div style='column-count: 2;'>{}</div>\".format(code)))\n",
        "\n",
        "install_google_fonts(print_out= False, download = True)"
      ],
      "metadata": {
        "colab": {
          "base_uri": "https://localhost:8080/"
        },
        "id": "Bm7Qz9oQgskJ",
        "outputId": "912897f7-2139-4247-bd0c-d741e434c45e"
      },
      "execution_count": null,
      "outputs": [
        {
          "output_type": "stream",
          "name": "stdout",
          "text": [
            "--2023-03-02 00:28:41--  https://github.com/google/fonts/archive/main.zip\n",
            "Resolving github.com (github.com)... 140.82.113.4\n",
            "Connecting to github.com (github.com)|140.82.113.4|:443... connected.\n",
            "HTTP request sent, awaiting response... 302 Found\n",
            "Location: https://codeload.github.com/google/fonts/zip/refs/heads/main [following]\n",
            "--2023-03-02 00:28:41--  https://codeload.github.com/google/fonts/zip/refs/heads/main\n",
            "Resolving codeload.github.com (codeload.github.com)... 140.82.112.10\n",
            "Connecting to codeload.github.com (codeload.github.com)|140.82.112.10|:443... connected.\n",
            "HTTP request sent, awaiting response... 200 OK\n",
            "Length: unspecified [application/zip]\n",
            "Saving to: ‘main.zip’\n",
            "\n",
            "main.zip                [          <=>       ]   1.02G  9.73MB/s    in 2m 2s   \n",
            "\n",
            "2023-03-02 00:30:43 (8.56 MB/s) - ‘main.zip’ saved [1098924931]\n",
            "\n"
          ]
        }
      ]
    },
    {
      "cell_type": "markdown",
      "source": [
        "Then we do the exact same thing as above again, but change the color, and add a little transparancy...\n",
        "\n",
        "The result is by no means perfect, but isn't it already a lot prettier? 🤩"
      ],
      "metadata": {
        "id": "x66xQqxYRnWl"
      }
    },
    {
      "cell_type": "code",
      "source": [
        "f, ax = plt.subplots(figsize=(6, 7))\n",
        "plt.style.use(\"opinions.mplstyle\")\n",
        "# If you want even more of the hrbrthemes-feeling you can change the font to Roboto Condensed. \n",
        "# Sometimes you will need to call the plotting function multiple times for this to take effect.\n",
        "# You should be able to put any google-font here:\n",
        "# plt.rc('font', family='Roboto Condensed') \n",
        "\n",
        "\n",
        "sns.barplot(x=\"total\", y=\"abbrev\", data=crashes,\n",
        "            label=\"Total\", color=\"#ff2500\", alpha=.9)\n",
        "ax.set_title('Some Data')\n",
        "ax.set_ylabel(\"State\")\n",
        "ax.set_xlabel(\"Collisions\")\n",
        "\n",
        "# Now lets save with good defaults:\n",
        "plt.savefig('my_sample_plot.png',bbox_inches='tight',dpi =400, transparent=False)"
      ],
      "metadata": {
        "colab": {
          "base_uri": "https://localhost:8080/",
          "height": 495
        },
        "id": "_Hyh4okChaOv",
        "outputId": "4c7a9bed-6be2-4353-b304-bbcfde58dc49"
      },
      "execution_count": null,
      "outputs": [
        {
          "output_type": "display_data",
          "data": {
            "text/plain": [
              "<Figure size 432x504 with 1 Axes>"
            ],
            "image/png": "[encoded data removed]"
          },
          "metadata": {}
        }
      ]
    },
    {
      "cell_type": "markdown",
      "source": [
        "That's it! If you have ideas for how to improve the stylesheet, please tell me!"
      ],
      "metadata": {
        "id": "gh2H4vDHs7qY"
      }
    }
  ]
}